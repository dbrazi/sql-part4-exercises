{
    "metadata": {
        "kernelspec": {
            "name": "SQL",
            "display_name": "SQL",
            "language": "sql"
        },
        "language_info": {
            "name": "sql",
            "version": ""
        }
    },
    "nbformat_minor": 2,
    "nbformat": 4,
    "cells": [
        {
            "cell_type": "markdown",
            "source": [
                "# Exercises: Complex queries\n",
                "\n",
                "For the exercises, you are tasked with writing five queries that will help you delve deeper into BooksDB. You can choose whether you want to use a correlated subquery, a nested subquery, the UNION operator, the INTERSECT operator, or the EXCEPT operator for each one. You may not use joins or add multiple statements to the WHERE clause.\n",
                "\n",
                "1. Write a query that will return the number of users who rated a book above it's average rating."
            ],
            "metadata": {
                "azdata_cell_guid": "10006a10-882f-4f55-8d42-f36044fdb6c7"
            },
            "attachments": {}
        },
        {
            "cell_type": "code",
            "source": [
                "-- SELECT COUNT(user_id) FROM BooksDB.dbo.ratings, BooksDB.dbo.books WHERE average_rating < rating\n",
                "--     SELECT COUNT(user_id)\n",
                "--     FROM BooksDB.dbo.ratings, BooksDB.dbo.books\n",
                "--     WHERE BooksDB.dbo.ratings.book_id = BooksDB.dbo.books.book_id; \n",
                "-- ^^ my orginal code, diff outcome, can review \n",
                "\n",
                "\n",
                "\n",
                "-- SELECT COUNT(DISTINCT user_id) AS optimistic_raters\n",
                "-- FROM BooksDB.dbo.ratings AS r\n",
                "-- WHERE rating > (\n",
                "--     SELECT average_rating\n",
                "--     FROM BooksDB.dbo.books\n",
                "--     WHERE book_id = r.book_id\n",
                "-- )\n",
                "\n",
                "--^^ correlated subquery, we are comparing the outer query table (the ratings table) to the inner query table (books table). The inner query table\n",
                "-- is correlated to the outer query "
            ],
            "metadata": {
                "azdata_cell_guid": "203eb95e-6585-435f-8a8e-bfa0dfe6f7c0",
                "tags": [],
                "language": "sql"
            },
            "outputs": [
                {
                    "output_type": "display_data",
                    "data": {
                        "text/html": "Commands completed successfully."
                    },
                    "metadata": {}
                },
                {
                    "output_type": "display_data",
                    "data": {
                        "text/html": "Total execution time: 00:00:00.082"
                    },
                    "metadata": {}
                }
            ],
            "execution_count": 1
        },
        {
            "cell_type": "markdown",
            "source": [
                "2. Write a query that returns the book ids of all books that have over 1000 ratings of 1 star or over 1000 ratings of 5 stars."
            ],
            "metadata": {
                "azdata_cell_guid": "7f849931-6c9c-4cd9-b3ba-66871052673d"
            },
            "attachments": {}
        },
        {
            "cell_type": "code",
            "source": [
                "-- SELECT book_id FROM BooksDB.dbo.books WHERE ratings_1 >= 1000\n",
                "-- UNION\n",
                "-- SELECT book_id FROM BooksDB.dbo.books WHERE ratings_5 >= 1000\n",
                "--my original code, can review\n",
                "\n",
                "\n",
                "-- SELECT book_id AS extreme_book_id\n",
                "-- FROM BooksDb.dbo.books\n",
                "-- WHERE ratings_1 > 1000\n",
                "-- UNION \n",
                "-- SELECT book_id AS extreme_book_id\n",
                "-- FROM BooksDB.dbo.books\n",
                "-- WHERE ratings_5 > 1000\n",
                "-- ORDER BY book_id ASC;\n",
                "--^^ taking two tables and combining them\n",
                "\n",
                "\n",
                "-- SELECT book_id AS extreme_book_id\n",
                "-- FROM BooksDB.dbo.books\n",
                "-- WHERE ratings_1 > 1000 OR ratings_5 > 1000\n",
                "-- ORDER BY book_id ASC;\n",
                "--^^ a code that does everything without using the union\n",
                "\n",
                ""
            ],
            "metadata": {
                "azdata_cell_guid": "bce732e3-1590-457b-b1f9-5319345ff790",
                "language": "sql",
                "tags": []
            },
            "outputs": [
                {
                    "output_type": "display_data",
                    "data": {
                        "text/html": "Commands completed successfully."
                    },
                    "metadata": {}
                },
                {
                    "output_type": "display_data",
                    "data": {
                        "text/html": "Total execution time: 00:00:00.079"
                    },
                    "metadata": {}
                }
            ],
            "execution_count": 2
        },
        {
            "cell_type": "markdown",
            "source": [
                "3. Write a query that returns the book ids of all books that have over 1000 ratings of 1 star and over 1000 ratings of 5 stars."
            ],
            "metadata": {
                "azdata_cell_guid": "9c53b866-c8e8-465e-b089-7702b191a15e"
            },
            "attachments": {}
        },
        {
            "cell_type": "code",
            "source": [
                "-- SELECT book_id FROM BooksDB.dbo.books WHERE ratings_1 >= 1000\n",
                "-- INTERSECT\n",
                "-- SELECT book_id FROM BooksDB.dbo.books WHERE ratings_5 >= 1000\n",
                "\n",
                "\n",
                "-- SELECT book_id \n",
                "-- FROM BooksDB.dbo.books\n",
                "-- WHERE ratings_1 > 1000\n",
                "-- INTERSECT \n",
                "-- SELECT book_id \n",
                "-- FROM BooksDB.dbo.books\n",
                "-- WHERE ratings_5 > 1000\n",
                "-- ORDER BY book_id ASC;\n",
                "\n",
                "\n",
                "-- SELECT book_id \n",
                "-- FROM BooksDB.dbo.books\n",
                "-- WHERE ratings_1 > 1000 AND ratings_5 > 1000\n",
                "-- ORDER BY book_id ASC;"
            ],
            "metadata": {
                "azdata_cell_guid": "43e39973-5a29-45ff-b2a9-9c658a19c296",
                "language": "sql",
                "tags": []
            },
            "outputs": [
                {
                    "output_type": "display_data",
                    "data": {
                        "text/html": "Commands completed successfully."
                    },
                    "metadata": {}
                },
                {
                    "output_type": "display_data",
                    "data": {
                        "text/html": "Total execution time: 00:00:00.085"
                    },
                    "metadata": {}
                }
            ],
            "execution_count": 3
        },
        {
            "cell_type": "markdown",
            "source": [
                "4. Write a query that returns the book ids of books that have a language code of \"en-US\" and not a langugae code of \"en-GB\"."
            ],
            "metadata": {
                "azdata_cell_guid": "2bd4844b-83af-490f-97cd-fdc1fa2944ec"
            },
            "attachments": {}
        },
        {
            "cell_type": "code",
            "source": [
                "-- SELECT book_id FROM BooksDB.dbo.books WHERE language_code LIKE ('%en-US%') --or WHERE language_code='en-US'\n",
                "-- EXCEPT\n",
                "-- SELECT book_id FROM BooksDB.dbo.books WHERE language_code LIKE ('%en-GB%') --or WHERE language_code='en-GB'\n",
                "--^^ code would work fine without the EXCEPT since it technically cant be getting two things at the same time. If its already getting the en-US\n",
                "--then it wouldn't need to also NOT get the 'en-GB', its a given\n",
                "\n",
                ""
            ],
            "metadata": {
                "azdata_cell_guid": "ba5a1b61-19c0-4d70-ae8d-2daae6ae1e21",
                "language": "sql",
                "tags": []
            },
            "outputs": [
                {
                    "output_type": "display_data",
                    "data": {
                        "text/html": "Commands completed successfully."
                    },
                    "metadata": {}
                },
                {
                    "output_type": "display_data",
                    "data": {
                        "text/html": "Total execution time: 00:00:00.086"
                    },
                    "metadata": {}
                }
            ],
            "execution_count": 4
        },
        {
            "cell_type": "markdown",
            "source": [
                "5. Write a query that returns the names of the tags and the tag ids for tags that were used over 100,000 times for a book. "
            ],
            "metadata": {
                "azdata_cell_guid": "6ddd588f-a84c-4c77-93ac-e8c8bd21d0f5"
            },
            "attachments": {}
        },
        {
            "cell_type": "code",
            "source": [
                "-- SELECT tag_name, BooksDB.dbo.book_tags.tag_id FROM BooksDB.dbo.tags, BooksDB.dbo.book_tags WHERE count > 100000     \n",
                "--     SELECT DISTINCT tag_name \n",
                "--     FROM BooksDB.dbo.tags, BooksDB.dbo.book_tags\n",
                "--     WHERE BooksDB.dbo.tags.tag_id = BooksDB.dbo.book_tags.tag_id;\n",
                "--my code, can be reviewed\n",
                "\n",
                "\n",
                "-- SELECT tag_name, tag_id \n",
                "-- FROM BooksDB.dbo.tags \n",
                "-- WHERE tag_id IN(\n",
                "--     SELECT tag_id \n",
                "--     FROM BooksDB.dbo.book_tags\n",
                "--     WHERE count > 100000\n",
                "-- )\n",
                ""
            ],
            "metadata": {
                "azdata_cell_guid": "90f61ad7-65cb-4ea8-85a3-d8c815cfe347",
                "tags": [],
                "language": "sql"
            },
            "outputs": [
                {
                    "output_type": "display_data",
                    "data": {
                        "text/html": "Commands completed successfully."
                    },
                    "metadata": {}
                },
                {
                    "output_type": "display_data",
                    "data": {
                        "text/html": "Total execution time: 00:00:00.081"
                    },
                    "metadata": {}
                }
            ],
            "execution_count": 5
        }
    ]
}